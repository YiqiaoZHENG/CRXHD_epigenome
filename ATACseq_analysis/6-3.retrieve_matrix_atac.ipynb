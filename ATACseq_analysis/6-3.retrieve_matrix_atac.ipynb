{
 "cells": [
  {
   "cell_type": "markdown",
   "metadata": {},
   "source": [
    "### This script is for data retreival from DiffBind object"
   ]
  },
  {
   "cell_type": "code",
   "execution_count": 1,
   "metadata": {
    "vscode": {
     "languageId": "r"
    }
   },
   "outputs": [
    {
     "name": "stderr",
     "output_type": "stream",
     "text": [
      "Warning message in system(\"timedatectl\", intern = TRUE):\n",
      "“running command 'timedatectl' had status 1”\n",
      "Warning message:\n",
      "“package ‘ggplot2’ was built under R version 4.2.3”\n",
      "Warning message:\n",
      "“package ‘tibble’ was built under R version 4.2.3”\n",
      "Warning message:\n",
      "“package ‘dplyr’ was built under R version 4.2.3”\n"
     ]
    }
   ],
   "source": [
    "httr::set_config(httr::config(ssl_verifypeer = FALSE))\n",
    "# set up the environment\n",
    "# analysis tools\n",
    "suppressPackageStartupMessages(library(DESeq2))\n",
    "suppressPackageStartupMessages(library(DiffBind))\n",
    "\n",
    "# table processing tools\n",
    "suppressPackageStartupMessages(library(GenomicRanges))\n",
    "suppressPackageStartupMessages(library(tidyverse))\n",
    "suppressPackageStartupMessages(library(reshape))"
   ]
  },
  {
   "cell_type": "code",
   "execution_count": 2,
   "metadata": {
    "vscode": {
     "languageId": "r"
    }
   },
   "outputs": [],
   "source": [
    "outbase_dir = \"/scratch/sclab/100322_ATAC\"\n",
    "# temporary output directories\n",
    "temp_out = file.path(outbase_dir, \"vscode_temp\")\n",
    "fileout_dir = file.path(temp_out, \"data_new\")\n",
    "plotout_dir = file.path(temp_out, \"figures_new\")"
   ]
  },
  {
   "cell_type": "markdown",
   "metadata": {},
   "source": [
    "### a. retrieve raw data by contrast"
   ]
  },
  {
   "cell_type": "code",
   "execution_count": 4,
   "metadata": {
    "vscode": {
     "languageId": "r"
    }
   },
   "outputs": [],
   "source": [
    "suffix <- \"e80a\"\n",
    "dbObj<-dba.load(file=paste0(\"100322_atac_\",suffix,\"_postanalyze.readsInPeakNormed\"), dir=file.path(outbase_dir, \"ATACQC\", \"outputs\"), pre='dba_', ext='RData')"
   ]
  },
  {
   "cell_type": "code",
   "execution_count": 5,
   "metadata": {
    "vscode": {
     "languageId": "r"
    }
   },
   "outputs": [
    {
     "data": {
      "text/plain": [
       "9 Samples, 119315 sites in matrix:\n",
       "     ID Tissue Factor Replicate    Reads FRiP\n",
       "1   wt1 retina     WT         1 40854780 0.44\n",
       "2   wt2 retina     WT         2 48510284 0.46\n",
       "3   wt3 retina     WT         3 41001963 0.34\n",
       "4 ehet4 retina     AT         1 47819155 0.39\n",
       "5 ehet5 retina     AT         2 37319506 0.46\n",
       "6 ehet6 retina     AT         3 35847788 0.47\n",
       "7 ehom1 retina     AA         1 41662566 0.43\n",
       "8 ehom2 retina     AA         2 35254892 0.49\n",
       "9 ehom3 retina     AA         3 39192437 0.43\n",
       "\n",
       "Design: [~Factor] | 3 Contrasts:\n",
       "  Factor Group Samples Group2 Samples2 DB.edgeR DB.DESeq2\n",
       "1 Factor    WT       3     AT        3    29666     25171\n",
       "2 Factor    WT       3     AA        3    76208     72436\n",
       "3 Factor    AA       3     AT        3    39802     34478"
      ]
     },
     "metadata": {},
     "output_type": "display_data"
    }
   ],
   "source": [
    "dbObj"
   ]
  },
  {
   "cell_type": "code",
   "execution_count": 9,
   "metadata": {
    "vscode": {
     "languageId": "r"
    }
   },
   "outputs": [
    {
     "data": {
      "text/plain": [
       "GRanges object with 119315 ranges and 9 metadata columns:\n",
       "                   seqnames          ranges strand |       wt1       wt2\n",
       "                      <Rle>       <IRanges>  <Rle> | <numeric> <numeric>\n",
       "       e80a_atac_1     chr1 3007274-3007674      * |   42.4317   73.2420\n",
       "       e80a_atac_2     chr1 3094807-3095207      * |   40.4581   24.4140\n",
       "       e80a_atac_3     chr1 3194302-3194702      * |   90.7841   68.5167\n",
       "       e80a_atac_4     chr1 3197558-3197958      * |   58.2202   40.1650\n",
       "       e80a_atac_5     chr1 3210204-3210604      * |   86.8369   81.1175\n",
       "               ...      ...             ...    ... .       ...       ...\n",
       "  e80a_atac_119311     chrY   809027-809427      * |   51.3127   61.4287\n",
       "  e80a_atac_119312     chrY   872888-873288      * |   42.4317   47.2529\n",
       "  e80a_atac_119313     chrY   897346-897746      * |   32.5639   41.7400\n",
       "  e80a_atac_119314     chrY 1010188-1010588      * |  246.6958  283.5173\n",
       "  e80a_atac_119315     chrY 1245604-1246004      * |  145.0572  199.2497\n",
       "                         wt3     ehet4     ehet5     ehet6     ehom1     ehom2\n",
       "                   <numeric> <numeric> <numeric> <numeric> <numeric> <numeric>\n",
       "       e80a_atac_1   52.0591   41.9797   45.0028   37.4894  46.65519   33.8794\n",
       "       e80a_atac_2   35.5526   41.0256   24.5470   28.1171   9.92664   23.6129\n",
       "       e80a_atac_3   57.1381   39.1175   45.0028   51.0273  27.79458   37.9860\n",
       "       e80a_atac_4   36.8223   33.3930   26.5926   36.4480  22.83126   11.2931\n",
       "       e80a_atac_5   81.2630   71.5563   54.2079   63.5237  33.75056   34.9060\n",
       "               ...       ...       ...       ...       ...       ...       ...\n",
       "  e80a_atac_119311   58.4078   31.4848   19.4330   81.2271   22.8313   32.8527\n",
       "  e80a_atac_119312   33.0131   30.5307   22.5014   69.7720   28.7872   32.8527\n",
       "  e80a_atac_119313   17.7763   28.6225   30.6837   72.8961   24.8166   24.6396\n",
       "  e80a_atac_119314  180.3023  197.4955  213.7634  457.1625  116.1416  130.3843\n",
       "  e80a_atac_119315  111.7367  139.2964  139.0996  306.1635  105.2223  112.9313\n",
       "                       ehom3\n",
       "                   <numeric>\n",
       "       e80a_atac_1   32.2336\n",
       "       e80a_atac_2   21.8357\n",
       "       e80a_atac_3   50.9499\n",
       "       e80a_atac_4   21.8357\n",
       "       e80a_atac_5   48.8703\n",
       "               ...       ...\n",
       "  e80a_atac_119311   42.6315\n",
       "  e80a_atac_119312   47.8305\n",
       "  e80a_atac_119313   32.2336\n",
       "  e80a_atac_119314  170.5261\n",
       "  e80a_atac_119315  139.3323\n",
       "  -------\n",
       "  seqinfo: 21 sequences from an unspecified genome; no seqlengths"
      ]
     },
     "metadata": {},
     "output_type": "display_data"
    }
   ],
   "source": [
    "# retrieve the consensus peakset\n",
    "consensus.peaks <- dba.peakset(dbObj, bRetrieve=TRUE)\n",
    "seqlevelsStyle(consensus.peaks) <- \"UCSC\"\n",
    "# retain only canonical chromosome peaks\n",
    "consensus.peaks = consensus.peaks[seqnames(consensus.peaks) %in% paste0(\"chr\", c(1:22, \"X\", \"Y\"))]\n",
    "# give each region a name\n",
    "names(consensus.peaks) <- paste(suffix,\"atac\",1:length(consensus.peaks),sep=\"_\")\n",
    "consensus.peaks"
   ]
  },
  {
   "cell_type": "code",
   "execution_count": 10,
   "metadata": {
    "vscode": {
     "languageId": "r"
    }
   },
   "outputs": [],
   "source": [
    "saveRDS(consensus.peaks , file=file.path(fileout_dir, \"atac_consensus_peakset\", paste0(\"100322_atac_\",suffix,\"_readsInPeakNormed.consensus.centered.rds\")))"
   ]
  },
  {
   "cell_type": "code",
   "execution_count": 48,
   "metadata": {
    "vscode": {
     "languageId": "r"
    }
   },
   "outputs": [],
   "source": [
    "# convert GRanges object to dataframe and keep the peak id as row name\n",
    "tmp <- consensus.peaks %>% as_tibble()\n",
    "tmp$name <- paste(suffix,\"atac\",rownames(tmp),sep=\"_\")\n",
    "tmp %>% column_to_rownames(var=\"name\") %>%\n",
    "write.table(file.path(fileout_dir, \"atac_consensus_peakset\", paste0(\"100322_atac_\",suffix,\"_readsInPeakNormed.consensus.centered.tsv\")), quote=FALSE, sep=\"\\t\", col.names=TRUE, row.names=TRUE)\n",
    "rm(tmp)"
   ]
  },
  {
   "cell_type": "markdown",
   "metadata": {},
   "source": [
    "### extract differential accessibility analysis"
   ]
  },
  {
   "cell_type": "code",
   "execution_count": 70,
   "metadata": {
    "vscode": {
     "languageId": "r"
    }
   },
   "outputs": [],
   "source": [
    "#retrieve contrast table and keep only those compared with WT\n",
    "atac.contrast <- dba.show(dbObj, bContrasts=T)\n",
    "#atac.contrast <- atac.contrast[atac.contrast$Group==\"WT\",]\n",
    "atac.contrast$Factor<- NULL\n",
    "atac.contrast$Samples <- NULL\n",
    "atac.contrast$Samples2 <- NULL\n",
    "atac.contrast$Group <- tolower(atac.contrast[,\"Group\"])\n",
    "atac.contrast$Group2 <- tolower(atac.contrast[,\"Group2\"])\n",
    "atac.contrast$mut.loss <- rep(\"n.a.\",time=nrow(atac.contrast))\n",
    "atac.contrast$mut.gain <- rep(\"n.a.\",time=nrow(atac.contrast))\n",
    "# update the metaTable with the corresponding atac DB contrast dataset\n",
    "for (row in c(1:nrow(atac.contrast))){\n",
    "      atac.contrast[row,\"mut.loss\"] <- paste0(row,\".A\")\n",
    "      atac.contrast[row,\"mut.gain\"] <- paste0(row,\".B\")\n",
    "}\n",
    "# add contrast name\n",
    "atac.contrast$contrast <- paste0(atac.contrast$Group, \"_vs_\", atac.contrast$Group2)\n",
    "atac.contrast$Group <- NULL\n",
    "rownames(atac.contrast) <- NULL # get rid of the old rownames to avoid error\n",
    "# use mutant as the rownames\n",
    "#atac.contrast <- atac.contrast %>% column_to_rownames(var=\"Group2\")\n",
    "#print(atac.contrast)"
   ]
  },
  {
   "cell_type": "code",
   "execution_count": 71,
   "metadata": {
    "vscode": {
     "languageId": "r"
    }
   },
   "outputs": [
    {
     "data": {
      "text/html": [
       "<table class=\"dataframe\">\n",
       "<caption>A data.frame: 3 × 6</caption>\n",
       "<thead>\n",
       "\t<tr><th scope=col>Group2</th><th scope=col>DB.edgeR</th><th scope=col>DB.DESeq2</th><th scope=col>mut.loss</th><th scope=col>mut.gain</th><th scope=col>contrast</th></tr>\n",
       "\t<tr><th scope=col>&lt;chr&gt;</th><th scope=col>&lt;chr&gt;</th><th scope=col>&lt;chr&gt;</th><th scope=col>&lt;chr&gt;</th><th scope=col>&lt;chr&gt;</th><th scope=col>&lt;chr&gt;</th></tr>\n",
       "</thead>\n",
       "<tbody>\n",
       "\t<tr><td>at</td><td>29666</td><td>25171</td><td>1.A</td><td>1.B</td><td>wt_vs_at</td></tr>\n",
       "\t<tr><td>aa</td><td>76208</td><td>72436</td><td>2.A</td><td>2.B</td><td>wt_vs_aa</td></tr>\n",
       "\t<tr><td>at</td><td>39802</td><td>34478</td><td>3.A</td><td>3.B</td><td>aa_vs_at</td></tr>\n",
       "</tbody>\n",
       "</table>\n"
      ],
      "text/latex": [
       "A data.frame: 3 × 6\n",
       "\\begin{tabular}{llllll}\n",
       " Group2 & DB.edgeR & DB.DESeq2 & mut.loss & mut.gain & contrast\\\\\n",
       " <chr> & <chr> & <chr> & <chr> & <chr> & <chr>\\\\\n",
       "\\hline\n",
       "\t at & 29666 & 25171 & 1.A & 1.B & wt\\_vs\\_at\\\\\n",
       "\t aa & 76208 & 72436 & 2.A & 2.B & wt\\_vs\\_aa\\\\\n",
       "\t at & 39802 & 34478 & 3.A & 3.B & aa\\_vs\\_at\\\\\n",
       "\\end{tabular}\n"
      ],
      "text/markdown": [
       "\n",
       "A data.frame: 3 × 6\n",
       "\n",
       "| Group2 &lt;chr&gt; | DB.edgeR &lt;chr&gt; | DB.DESeq2 &lt;chr&gt; | mut.loss &lt;chr&gt; | mut.gain &lt;chr&gt; | contrast &lt;chr&gt; |\n",
       "|---|---|---|---|---|---|\n",
       "| at | 29666 | 25171 | 1.A | 1.B | wt_vs_at |\n",
       "| aa | 76208 | 72436 | 2.A | 2.B | wt_vs_aa |\n",
       "| at | 39802 | 34478 | 3.A | 3.B | aa_vs_at |\n",
       "\n"
      ],
      "text/plain": [
       "  Group2 DB.edgeR DB.DESeq2 mut.loss mut.gain contrast\n",
       "1 at     29666    25171     1.A      1.B      wt_vs_at\n",
       "2 aa     76208    72436     2.A      2.B      wt_vs_aa\n",
       "3 at     39802    34478     3.A      3.B      aa_vs_at"
      ]
     },
     "metadata": {},
     "output_type": "display_data"
    }
   ],
   "source": [
    "atac.contrast"
   ]
  },
  {
   "cell_type": "code",
   "execution_count": 23,
   "metadata": {
    "vscode": {
     "languageId": "r"
    }
   },
   "outputs": [],
   "source": [
    "retrieve_DB_res <- function(contrast, method_name, fdr.cutoff){\n",
    "  if (method_name == \"deseq2\"){\n",
    "    use_method<-DBA_DESEQ2\n",
    "  }else if (method_name == \"edger\"){\n",
    "    use_method<-DBA_EDGER\n",
    "  }\n",
    "  # extract the results from method_name and below the given FDR threshold\n",
    "  # remove any no useful column containing all NAs\n",
    "  DB.result <- dba.report(dbObj, contrast=contrast, method=use_method, th=fdr.cutoff) %>% \n",
    "              data.frame() %>% select(where(~!all(is.na(.)))) %>%\n",
    "              makeGRangesFromDataFrame(keep.extra.columns=TRUE, ignore.strand=FALSE)\n",
    "  return (DB.result)\n",
    "}"
   ]
  },
  {
   "cell_type": "code",
   "execution_count": 72,
   "metadata": {
    "vscode": {
     "languageId": "r"
    }
   },
   "outputs": [],
   "source": [
    "# retreieve the deseq2 or edger contrast results table\n",
    "all.DB.matrix <- lapply(c(1:nrow(atac.contrast)), function(x) retrieve_DB_res(x,\"deseq2\",1))\n",
    "names(all.DB.matrix) <- atac.contrast$contrast"
   ]
  },
  {
   "cell_type": "code",
   "execution_count": null,
   "metadata": {
    "vscode": {
     "languageId": "r"
    }
   },
   "outputs": [],
   "source": [
    "all.DB.matrix"
   ]
  },
  {
   "cell_type": "code",
   "execution_count": 73,
   "metadata": {
    "vscode": {
     "languageId": "r"
    }
   },
   "outputs": [],
   "source": [
    "get_peak_lfc <- function(matrix.name){\n",
    "        # retrieve factor names for the selected contrast\n",
    "        mut <- str_split(matrix.name,\"_\",simplify=TRUE)[3]\n",
    "        ctrl <- str_split(matrix.name,\"_\",simplify=TRUE)[1]\n",
    "        print(paste(\"processing contrast\",matrix.name, sep=\" \"))\n",
    "        clean.matrix <- all.DB.matrix[[matrix.name]]\n",
    "        # make sure it is UCSC convention\n",
    "        seqlevelsStyle(clean.matrix) <- \"UCSC\"\n",
    "        clean.matrix <- clean.matrix %>% data.frame() %>% filter_at(c(7,8), all_vars(.>=1))\n",
    "        print(paste0(\"after removing regions with conc. lower than 1: \",nrow(clean.matrix)))\n",
    "        gr <- clean.matrix %>%\n",
    "                # for some matrix the log2FC is correct mut/wt but some are the reversed\n",
    "                # if in the contrast meta table, the last column is wt vs mut, use log2FC = -Fold\n",
    "                # if in the contrast meta table, the last column is mut vs wt, use log2FC = Fold\n",
    "                dplyr::mutate(log2FC=-Fold) %>% \n",
    "                #filter(FDR < fdr.cutoff & Fold > fc.cutoff) %>%\n",
    "                select(seqnames, start, end, strand, width, log2FC, p.value, FDR) %>%\n",
    "                dplyr::arrange(seqnames, start)\n",
    "\n",
    "        # rename lfc and fdr columns to make unique\n",
    "        names(gr)[6:8] <- c(paste(\"atac\",matrix.name,\"lfc\", sep=\".\"), paste(\"atac\",matrix.name,\"p.value\", sep=\".\"), paste(\"atac\",matrix.name,\"fdr\", sep=\".\"))\n",
    "\n",
    "        return(gr)\n",
    "}"
   ]
  },
  {
   "cell_type": "code",
   "execution_count": 74,
   "metadata": {
    "vscode": {
     "languageId": "r"
    }
   },
   "outputs": [
    {
     "data": {
      "text/html": [
       "<style>\n",
       ".list-inline {list-style: none; margin:0; padding: 0}\n",
       ".list-inline>li {display: inline-block}\n",
       ".list-inline>li:not(:last-child)::after {content: \"\\00b7\"; padding: 0 .5ex}\n",
       "</style>\n",
       "<ol class=list-inline><li>'wt_vs_at'</li><li>'wt_vs_aa'</li><li>'aa_vs_at'</li></ol>\n"
      ],
      "text/latex": [
       "\\begin{enumerate*}\n",
       "\\item 'wt\\_vs\\_at'\n",
       "\\item 'wt\\_vs\\_aa'\n",
       "\\item 'aa\\_vs\\_at'\n",
       "\\end{enumerate*}\n"
      ],
      "text/markdown": [
       "1. 'wt_vs_at'\n",
       "2. 'wt_vs_aa'\n",
       "3. 'aa_vs_at'\n",
       "\n",
       "\n"
      ],
      "text/plain": [
       "[1] \"wt_vs_at\" \"wt_vs_aa\" \"aa_vs_at\""
      ]
     },
     "metadata": {},
     "output_type": "display_data"
    }
   ],
   "source": [
    "names(all.DB.matrix)"
   ]
  },
  {
   "cell_type": "code",
   "execution_count": 75,
   "metadata": {
    "vscode": {
     "languageId": "r"
    }
   },
   "outputs": [
    {
     "name": "stdout",
     "output_type": "stream",
     "text": [
      "[1] \"processing contrast wt_vs_at\"\n",
      "[1] \"after removing regions with conc. lower than 1: 119315\"\n",
      "[1] \"processing contrast wt_vs_aa\"\n",
      "[1] \"after removing regions with conc. lower than 1: 119314\"\n",
      "[1] \"processing contrast aa_vs_at\"\n",
      "[1] \"after removing regions with conc. lower than 1: 119314\"\n"
     ]
    }
   ],
   "source": [
    "all.DB.lfc <- lapply(names(all.DB.matrix), function(x) get_peak_lfc(x))\n",
    "names(all.DB.lfc) <- names(all.DB.matrix)"
   ]
  },
  {
   "cell_type": "code",
   "execution_count": 76,
   "metadata": {
    "vscode": {
     "languageId": "r"
    }
   },
   "outputs": [
    {
     "data": {
      "text/html": [
       "<style>\n",
       ".list-inline {list-style: none; margin:0; padding: 0}\n",
       ".list-inline>li {display: inline-block}\n",
       ".list-inline>li:not(:last-child)::after {content: \"\\00b7\"; padding: 0 .5ex}\n",
       "</style>\n",
       "<ol class=list-inline><li>'wt_vs_at'</li><li>'wt_vs_aa'</li><li>'aa_vs_at'</li></ol>\n"
      ],
      "text/latex": [
       "\\begin{enumerate*}\n",
       "\\item 'wt\\_vs\\_at'\n",
       "\\item 'wt\\_vs\\_aa'\n",
       "\\item 'aa\\_vs\\_at'\n",
       "\\end{enumerate*}\n"
      ],
      "text/markdown": [
       "1. 'wt_vs_at'\n",
       "2. 'wt_vs_aa'\n",
       "3. 'aa_vs_at'\n",
       "\n",
       "\n"
      ],
      "text/plain": [
       "[1] \"wt_vs_at\" \"wt_vs_aa\" \"aa_vs_at\""
      ]
     },
     "metadata": {},
     "output_type": "display_data"
    }
   ],
   "source": [
    "names(all.DB.lfc)"
   ]
  },
  {
   "cell_type": "code",
   "execution_count": 77,
   "metadata": {
    "vscode": {
     "languageId": "r"
    }
   },
   "outputs": [
    {
     "data": {
      "text/html": [
       "<dl>\n",
       "\t<dt>$wt_vs_at</dt>\n",
       "\t\t<dd>NULL</dd>\n",
       "\t<dt>$wt_vs_aa</dt>\n",
       "\t\t<dd>NULL</dd>\n",
       "\t<dt>$aa_vs_at</dt>\n",
       "\t\t<dd>NULL</dd>\n",
       "</dl>\n"
      ],
      "text/latex": [
       "\\begin{description}\n",
       "\\item[\\$wt\\_vs\\_at] NULL\n",
       "\\item[\\$wt\\_vs\\_aa] NULL\n",
       "\\item[\\$aa\\_vs\\_at] NULL\n",
       "\\end{description}\n"
      ],
      "text/markdown": [
       "$wt_vs_at\n",
       ":   NULL\n",
       "$wt_vs_aa\n",
       ":   NULL\n",
       "$aa_vs_at\n",
       ":   NULL\n",
       "\n",
       "\n"
      ],
      "text/plain": [
       "$wt_vs_at\n",
       "NULL\n",
       "\n",
       "$wt_vs_aa\n",
       "NULL\n",
       "\n",
       "$aa_vs_at\n",
       "NULL\n"
      ]
     },
     "metadata": {},
     "output_type": "display_data"
    }
   ],
   "source": [
    "sapply(names(all.DB.lfc), function(x) all.DB.lfc[[x]] %>% write.table(file=file.path(fileout_dir, \"atac_diffbind_matrix\", paste0(x,\"_lfc.tsv\")), quote=FALSE, sep=\"\\t\", col.names=TRUE, row.names=FALSE))"
   ]
  },
  {
   "cell_type": "code",
   "execution_count": 78,
   "metadata": {
    "vscode": {
     "languageId": "r"
    }
   },
   "outputs": [
    {
     "data": {
      "text/html": [
       "<dl>\n",
       "\t<dt>$wt_vs_at</dt>\n",
       "\t\t<dd>NULL</dd>\n",
       "\t<dt>$wt_vs_aa</dt>\n",
       "\t\t<dd>NULL</dd>\n",
       "\t<dt>$aa_vs_at</dt>\n",
       "\t\t<dd>NULL</dd>\n",
       "</dl>\n"
      ],
      "text/latex": [
       "\\begin{description}\n",
       "\\item[\\$wt\\_vs\\_at] NULL\n",
       "\\item[\\$wt\\_vs\\_aa] NULL\n",
       "\\item[\\$aa\\_vs\\_at] NULL\n",
       "\\end{description}\n"
      ],
      "text/markdown": [
       "$wt_vs_at\n",
       ":   NULL\n",
       "$wt_vs_aa\n",
       ":   NULL\n",
       "$aa_vs_at\n",
       ":   NULL\n",
       "\n",
       "\n"
      ],
      "text/plain": [
       "$wt_vs_at\n",
       "NULL\n",
       "\n",
       "$wt_vs_aa\n",
       "NULL\n",
       "\n",
       "$aa_vs_at\n",
       "NULL\n"
      ]
     },
     "metadata": {},
     "output_type": "display_data"
    }
   ],
   "source": [
    "sapply(names(all.DB.matrix), function(x) all.DB.matrix[[x]] %>% data.frame() %>% write.table(file=file.path(fileout_dir, \"atac_diffbind_matrix\", paste0(x,\"_lfc.unfiltered.tsv\")), quote=FALSE, sep=\"\\t\", col.names=TRUE, row.names=FALSE))"
   ]
  },
  {
   "cell_type": "code",
   "execution_count": 79,
   "metadata": {
    "vscode": {
     "languageId": "r"
    }
   },
   "outputs": [
    {
     "name": "stderr",
     "output_type": "stream",
     "text": [
      "\u001b[1m\u001b[22mJoining, by = c(\"seqnames\", \"start\", \"end\", \"strand\", \"width\")\n",
      "\u001b[1m\u001b[22mJoining, by = c(\"seqnames\", \"start\", \"end\", \"strand\", \"width\")\n"
     ]
    }
   ],
   "source": [
    "# collect all chip differential binding tables in to one\n",
    "e80a_atac_lfc <- all.DB.lfc[[\"wt_vs_at\"]] %>% \n",
    "                dplyr::full_join(all.DB.lfc[[\"wt_vs_aa\"]]) %>%\n",
    "                dplyr::full_join(all.DB.lfc[[\"aa_vs_at\"]]) %>%\n",
    "                dplyr::arrange(seqnames, start)"
   ]
  },
  {
   "cell_type": "code",
   "execution_count": 39,
   "metadata": {
    "vscode": {
     "languageId": "r"
    }
   },
   "outputs": [],
   "source": [
    "e80a_atac_lfc %>% write.table(file.path(fileout_dir, \"atac_diffbind_matrix\", \"e80a_atac_consensus_peaks_lfc.tsv\"), quote=FALSE, sep=\"\\t\", col.names=TRUE, row.names=FALSE)"
   ]
  },
  {
   "cell_type": "code",
   "execution_count": 80,
   "metadata": {
    "vscode": {
     "languageId": "r"
    }
   },
   "outputs": [
    {
     "data": {
      "text/html": [
       "119315"
      ],
      "text/latex": [
       "119315"
      ],
      "text/markdown": [
       "119315"
      ],
      "text/plain": [
       "[1] 119315"
      ]
     },
     "metadata": {},
     "output_type": "display_data"
    }
   ],
   "source": [
    "nrow(e80a_atac_lfc)"
   ]
  },
  {
   "cell_type": "code",
   "execution_count": 59,
   "metadata": {
    "vscode": {
     "languageId": "r"
    }
   },
   "outputs": [
    {
     "name": "stderr",
     "output_type": "stream",
     "text": [
      "\u001b[1m\u001b[22mJoining, by = c(\"seqnames\", \"start\", \"end\", \"strand\", \"width\")\n",
      "\u001b[1m\u001b[22mJoining, by = c(\"seqnames\", \"start\", \"end\", \"strand\", \"width\")\n",
      "\u001b[1m\u001b[22mJoining, by = c(\"seqnames\", \"start\", \"end\", \"strand\", \"width\")\n",
      "\u001b[1m\u001b[22mJoining, by = c(\"seqnames\", \"start\", \"end\", \"strand\", \"width\")\n"
     ]
    }
   ],
   "source": [
    "# collect all chip differential binding tables in to one\n",
    "k88n_atac_lfc <- all.DB.lfc[[\"wt_vs_nt\"]] %>% \n",
    "                dplyr::full_join(all.DB.lfc[[\"wt_vs_nn\"]]) %>%\n",
    "                dplyr::full_join(all.DB.lfc[[\"wt_vs_ww\"]]) %>%\n",
    "                dplyr::full_join(all.DB.lfc[[\"nt_vs_ww\"]]) %>%\n",
    "                dplyr::full_join(all.DB.lfc[[\"ww_vs_nn\"]]) %>%\n",
    "                dplyr::arrange(seqnames, start)"
   ]
  },
  {
   "cell_type": "code",
   "execution_count": 60,
   "metadata": {
    "vscode": {
     "languageId": "r"
    }
   },
   "outputs": [],
   "source": [
    "k88n_atac_lfc %>% write.table(file.path(fileout_dir, \"atac_diffbind_matrix\", \"k88n_atac_consensus_peaks_lfc.tsv\"), quote=FALSE, sep=\"\\t\", col.names=TRUE, row.names=FALSE)"
   ]
  },
  {
   "cell_type": "code",
   "execution_count": null,
   "metadata": {
    "vscode": {
     "languageId": "r"
    }
   },
   "outputs": [],
   "source": [
    "nrow(k88n_atac_lfc)"
   ]
  },
  {
   "cell_type": "code",
   "execution_count": 61,
   "metadata": {
    "vscode": {
     "languageId": "r"
    }
   },
   "outputs": [
    {
     "data": {
      "text/plain": [
       "R version 4.0.5 (2021-03-31)\n",
       "Platform: x86_64-conda-linux-gnu (64-bit)\n",
       "Running under: Rocky Linux 8.7 (Green Obsidian)\n",
       "\n",
       "Matrix products: default\n",
       "BLAS/LAPACK: /ref/sclab/software/miniconda3/envs/specseq/lib/libopenblasp-r0.3.21.so\n",
       "\n",
       "locale:\n",
       " [1] LC_CTYPE=en_US.UTF-8       LC_NUMERIC=C              \n",
       " [3] LC_TIME=en_US.UTF-8        LC_COLLATE=en_US.UTF-8    \n",
       " [5] LC_MONETARY=en_US.UTF-8    LC_MESSAGES=en_US.UTF-8   \n",
       " [7] LC_PAPER=en_US.UTF-8       LC_NAME=C                 \n",
       " [9] LC_ADDRESS=C               LC_TELEPHONE=C            \n",
       "[11] LC_MEASUREMENT=en_US.UTF-8 LC_IDENTIFICATION=C       \n",
       "\n",
       "attached base packages:\n",
       "[1] parallel  stats4    stats     graphics  grDevices utils     datasets \n",
       "[8] methods   base     \n",
       "\n",
       "other attached packages:\n",
       " [1] reshape_0.8.9               forcats_0.5.2              \n",
       " [3] stringr_1.4.1               dplyr_1.0.10               \n",
       " [5] purrr_0.3.4                 readr_2.1.3                \n",
       " [7] tidyr_1.2.1                 tibble_3.1.8               \n",
       " [9] ggplot2_3.3.6               tidyverse_1.3.2            \n",
       "[11] DiffBind_3.0.15             DESeq2_1.30.1              \n",
       "[13] SummarizedExperiment_1.20.0 Biobase_2.50.0             \n",
       "[15] MatrixGenerics_1.2.1        matrixStats_0.62.0         \n",
       "[17] GenomicRanges_1.42.0        GenomeInfoDb_1.26.4        \n",
       "[19] IRanges_2.24.1              S4Vectors_0.28.1           \n",
       "[21] BiocGenerics_0.36.0        \n",
       "\n",
       "loaded via a namespace (and not attached):\n",
       "  [1] readxl_1.4.1             uuid_1.1-0               GOstats_2.56.0          \n",
       "  [4] backports_1.4.1          BiocFileCache_1.14.0     plyr_1.8.7              \n",
       "  [7] repr_1.1.6               GSEABase_1.52.1          splines_4.0.5           \n",
       " [10] BiocParallel_1.24.1      amap_0.8-18              digest_0.6.29           \n",
       " [13] invgamma_1.1             htmltools_0.5.3          GO.db_3.12.1            \n",
       " [16] SQUAREM_2021.1           fansi_1.0.3              magrittr_2.0.3          \n",
       " [19] checkmate_2.1.0          memoise_1.1.0            BSgenome_1.58.0         \n",
       " [22] base64url_1.4            googlesheets4_1.0.1      tzdb_0.3.0              \n",
       " [25] limma_3.46.0             Biostrings_2.58.0        annotate_1.68.0         \n",
       " [28] modelr_0.1.9             systemPipeR_1.24.3       askpass_1.1             \n",
       " [31] bdsmatrix_1.3-6          prettyunits_1.1.1        jpeg_0.1-9              \n",
       " [34] colorspace_2.0-3         rvest_1.0.3              blob_1.2.3              \n",
       " [37] rappdirs_0.3.3           apeglm_1.12.0            ggrepel_0.9.1           \n",
       " [40] haven_2.5.1              crayon_1.5.1             RCurl_1.98-1.8          \n",
       " [43] jsonlite_1.8.0           graph_1.68.0             genefilter_1.72.1       \n",
       " [46] brew_1.0-7               survival_3.4-0           VariantAnnotation_1.36.0\n",
       " [49] glue_1.6.2               gargle_1.2.1             gtable_0.3.1            \n",
       " [52] zlibbioc_1.36.0          XVector_0.30.0           DelayedArray_0.16.3     \n",
       " [55] V8_3.4.2                 Rgraphviz_2.34.0         scales_1.2.1            \n",
       " [58] mvtnorm_1.1-3            pheatmap_1.0.12          DBI_1.1.3               \n",
       " [61] edgeR_3.32.1             Rcpp_1.0.9               xtable_1.8-4            \n",
       " [64] progress_1.2.2           emdbook_1.3.12           bit_4.0.4               \n",
       " [67] rsvg_2.2.0               truncnorm_1.0-8          AnnotationForge_1.32.0  \n",
       " [70] httr_1.4.4               gplots_3.1.3             RColorBrewer_1.1-3      \n",
       " [73] ellipsis_0.3.2           pkgconfig_2.0.3          XML_3.99-0.9            \n",
       " [76] dbplyr_2.2.1             deldir_1.0-6             locfit_1.5-9.4          \n",
       " [79] utf8_1.2.2               tidyselect_1.1.2         rlang_1.0.6             \n",
       " [82] AnnotationDbi_1.52.0     cellranger_1.1.0         munsell_0.5.0           \n",
       " [85] tools_4.0.5              cli_3.4.1                generics_0.1.3          \n",
       " [88] RSQLite_2.2.8            broom_1.0.1              evaluate_0.16           \n",
       " [91] fastmap_1.1.0            yaml_2.3.5               fs_1.5.2                \n",
       " [94] bit64_4.0.5              caTools_1.18.2           RBGL_1.66.0             \n",
       " [97] xml2_1.3.3               biomaRt_2.46.3           compiler_4.0.5          \n",
       "[100] curl_4.3.2               png_0.1-7                reprex_2.0.2            \n",
       "[103] geneplotter_1.68.0       stringi_1.7.5            GenomicFeatures_1.42.3  \n",
       "[106] lattice_0.20-45          IRdisplay_1.1            Matrix_1.5-1            \n",
       "[109] vctrs_0.4.1              pillar_1.8.1             lifecycle_1.0.2         \n",
       "[112] irlba_2.3.5              data.table_1.14.4        bitops_1.0-7            \n",
       "[115] rtracklayer_1.50.0       R6_2.5.1                 latticeExtra_0.6-30     \n",
       "[118] hwriter_1.3.2.1          ShortRead_1.48.0         KernSmooth_2.23-20      \n",
       "[121] MASS_7.3-58.1            gtools_3.9.3             assertthat_0.2.1        \n",
       "[124] openssl_2.0.3            Category_2.56.0          rjson_0.2.21            \n",
       "[127] withr_2.5.0              GenomicAlignments_1.26.0 batchtools_0.9.15       \n",
       "[130] Rsamtools_2.6.0          GenomeInfoDbData_1.2.4   hms_1.1.2               \n",
       "[133] grid_4.0.5               IRkernel_1.3.2           DOT_0.1                 \n",
       "[136] coda_0.19-4              googledrive_2.0.0        GreyListChIP_1.22.0     \n",
       "[139] ashr_2.2-54              mixsqp_0.3-43            pbdZMQ_0.3-10           \n",
       "[142] bbmle_1.0.25             lubridate_1.8.0          numDeriv_2016.8-1.1     \n",
       "[145] base64enc_0.1-3          interp_1.1-3            "
      ]
     },
     "metadata": {},
     "output_type": "display_data"
    }
   ],
   "source": [
    "sessionInfo()"
   ]
  }
 ],
 "metadata": {
  "kernelspec": {
   "display_name": "R.atac",
   "language": "R",
   "name": "r.atacseq"
  },
  "language_info": {
   "codemirror_mode": "r",
   "file_extension": ".r",
   "mimetype": "text/x-r-source",
   "name": "R",
   "pygments_lexer": "r",
   "version": "4.2.2"
  }
 },
 "nbformat": 4,
 "nbformat_minor": 4
}
