{
 "cells": [
  {
   "cell_type": "markdown",
   "metadata": {},
   "source": [
    "### This script categorizes CRX-dependent activated genes by their associated HD motifs types"
   ]
  },
  {
   "cell_type": "code",
   "execution_count": 71,
   "metadata": {},
   "outputs": [],
   "source": [
    "import os\n",
    "import sys\n",
    "import warnings\n",
    "import re\n",
    "import itertools\n",
    "import random \n",
    "random.seed(4444)\n",
    "\n",
    "import numpy as np\n",
    "import pandas as pd\n",
    "import scipy\n",
    "from scipy import stats\n",
    "from scipy.stats import mannwhitneyu, normaltest\n",
    "from scipy.cluster import hierarchy\n",
    "import statsmodels\n",
    "import fastcluster\n",
    "import statsmodels.api as sm\n",
    "\n",
    "import sklearn\n",
    "from sklearn.preprocessing import StandardScaler\n",
    "\n",
    "import matplotlib as mpl\n",
    "import matplotlib.pyplot as plt\n",
    "import matplotlib.patches as mpatches\n",
    "import matplotlib.gridspec as gridspec\n",
    "from matplotlib.colors import Normalize\n",
    "import matplotlib.font_manager\n",
    "from mpl_toolkits.axes_grid1 import make_axes_locatable\n",
    "from matplotlib.patches import Patch\n",
    "from matplotlib.patches import Rectangle\n",
    "from matplotlib.lines import Line2D\n",
    "import logomaker\n",
    "import seaborn as sns\n",
    "from seaborn.utils import relative_luminance\n",
    "#from statannotations.Annotator import Annotator"
   ]
  },
  {
   "cell_type": "markdown",
   "metadata": {},
   "source": [
    "### I. housekeeping"
   ]
  },
  {
   "cell_type": "code",
   "execution_count": 72,
   "metadata": {},
   "outputs": [],
   "source": [
    "warnings.filterwarnings(\"ignore\", category=DeprecationWarning)\n",
    "warnings.filterwarnings(\"ignore\", category=FutureWarning)"
   ]
  },
  {
   "cell_type": "code",
   "execution_count": 74,
   "metadata": {},
   "outputs": [],
   "source": [
    "# compatible naming between WinOS and MacOS\n",
    "base_dir = os.path.dirname(os.getcwd())\n",
    "os.chdir(base_dir)\n",
    "\n",
    "chip_basedir = os.path.join(base_dir, \"ChIPseq_analysis\", \"processed_data\")\n",
    "rna_basedir = os.path.join(base_dir, \"RNAseq_analysis\", \"processed_data\")"
   ]
  },
  {
   "cell_type": "code",
   "execution_count": 77,
   "metadata": {},
   "outputs": [],
   "source": [
    "# crx chip\n",
    "crx_chip_clustered_matrix = pd.read_csv(os.path.join(chip_basedir, \"lfc_cutoff_clustered_chip_regions.tsv\"), sep=\"\\t\", header=0).astype(object)\n",
    "crx_chip_rna_matrix = pd.read_csv(os.path.join(rna_basedir, \"wt_chip_rna_compiled_matrix.txt\"), sep=\"\\t\", header=0).astype(object).drop_duplicates(subset=[\"seqnames\",\"start\"]).copy()\n",
    "\n",
    "# crx rna\n",
    "crx_rna_full_matrix = pd.read_csv(os.path.join(rna_basedir, \"compiled_hdmuts_lfc.tsv\"), sep=\"\\t\", header=0).astype(object)\n",
    "\n",
    "aldiri_normalized_counts = pd.read_csv(os.path.join(rna_basedir, \"aldiri_normalized_counts.tsv\"), sep=\"\\t\", header=0).astype(object)\n",
    "aldiri_normalized_rowz = pd.read_csv(os.path.join(rna_basedir, \"aldiri_normalized_rowz.tsv\"), sep=\"\\t\", header=0).astype(object)"
   ]
  },
  {
   "cell_type": "markdown",
   "metadata": {},
   "source": [
    "### II. parse the FIMO tables"
   ]
  },
  {
   "cell_type": "code",
   "execution_count": 11,
   "metadata": {},
   "outputs": [],
   "source": [
    "# read directly from file\n",
    "masked_fimo_ser = pd.Series(dtype=object)\n",
    "chip_fimo_raw_ser = pd.Series(dtype=object)\n",
    "for motif in [\"pr\"]:\n",
    "    chip_fimo_raw_ser[motif] = pd.read_csv(os.path.join(chip_basedir, f\"chip_all_regions_{motif}\", \"fimo.tsv\"), sep=\"\\t\", header=0)\n",
    "    masked_fimo_ser[motif] = pd.read_csv(os.path.join(chip_basedir, f\"masked_all_regions_{motif}\", \"fimo.tsv\"), sep=\"\\t\", header=0)"
   ]
  },
  {
   "cell_type": "markdown",
   "metadata": {},
   "source": [
    "#### identify instances of monomeric HD motifs"
   ]
  },
  {
   "cell_type": "code",
   "execution_count": 11,
   "metadata": {},
   "outputs": [],
   "source": [
    "# monomeric motif from masked fasta scanning\n",
    "prtf_fimo_table = masked_fimo_ser[\"pr\"][:-3].copy().drop(columns=[\"motif_alt_id\"])\n",
    "\n",
    "k50_mono_fimo_table = prtf_fimo_table.loc[lambda df:df[\"motif_id\"]==\"CRX_Corbo\",:].copy()\n",
    "q50_mono_fimo_table = prtf_fimo_table.loc[lambda df:df[\"motif_id\"]==\"RAX2.MA0717.1\",:].copy()"
   ]
  },
  {
   "cell_type": "code",
   "execution_count": 12,
   "metadata": {},
   "outputs": [],
   "source": [
    "k50_mono_fimo_table[\"core\"] = k50_mono_fimo_table[\"matched_sequence\"].apply(lambda x: x[2:4])\n",
    "k50_mono_fimo_table[\"6mer\"] = k50_mono_fimo_table[\"matched_sequence\"].apply(lambda x: x[1:-1])\n",
    "k50_mono_fimo_table = k50_mono_fimo_table.loc[lambda df: df[\"core\"]==\"AA\",:].copy()\n",
    "\n",
    "q50_mono_fimo_table[\"core\"] = q50_mono_fimo_table[\"matched_sequence\"].apply(lambda x: x[2:4])\n",
    "q50_mono_fimo_table[\"6mer\"] = q50_mono_fimo_table[\"matched_sequence\"].apply(lambda x: x[1:-1])\n",
    "q50_mono_fimo_table = q50_mono_fimo_table.loc[lambda df: df[\"core\"]==\"AA\",:].copy()"
   ]
  },
  {
   "cell_type": "markdown",
   "metadata": {},
   "source": [
    "#### identify instances of dimeric HD motifs"
   ]
  },
  {
   "cell_type": "code",
   "execution_count": 15,
   "metadata": {},
   "outputs": [],
   "source": [
    "# get the dimeric motif count from unmasked fasta scanning\n",
    "# first filter by half site core motif match, at least to \"TT\" and \"AA\"\n",
    "prtf_dimer_table = chip_fimo_raw_ser[\"pr\"][:-3].copy().drop(columns=[\"motif_alt_id\"])\n",
    "k50_dimer_fimo_table = prtf_dimer_table.loc[lambda df:df[\"motif_id\"]==\"E80A_atacLost.MEME-19\",:].copy()\n",
    "q50_dimer_fimo_table = prtf_dimer_table.loc[lambda df:df[\"motif_id\"]==\"K88N_atacGain.STREME-1\",:].copy()"
   ]
  },
  {
   "cell_type": "code",
   "execution_count": 16,
   "metadata": {},
   "outputs": [],
   "source": [
    "k50_dimer_fimo_table[\"core\"] = k50_dimer_fimo_table[\"matched_sequence\"].apply(lambda x: x[1:3]+x[-3:-1]) \n",
    "k50_dimer_fimo_table[\"spacer\"] = k50_dimer_fimo_table[\"matched_sequence\"].apply(lambda x: x[4:7]) \n",
    "k50_dimer_fimo_table = k50_dimer_fimo_table.loc[lambda df: df[\"core\"]==\"AATT\",:].copy().reset_index(drop=True)\n",
    "\n",
    "q50_dimer_fimo_table[\"core\"] = q50_dimer_fimo_table[\"matched_sequence\"].apply(lambda x: x[2:4]+x[-4:-2]) \n",
    "q50_dimer_fimo_table[\"spacer\"] = q50_dimer_fimo_table[\"matched_sequence\"].apply(lambda x: x[5:8])\n",
    "q50_dimer_fimo_table = q50_dimer_fimo_table.loc[lambda df: df[\"core\"]==\"AATT\",:].copy().reset_index(drop=True)"
   ]
  },
  {
   "cell_type": "code",
   "execution_count": 17,
   "metadata": {},
   "outputs": [],
   "source": [
    "compliment = {\"A\": \"T\", \"C\": \"G\", \"G\": \"C\", \"T\": \"A\", \"N\": \"N\"}\n",
    "def reverse_rmatch(old_seq):\n",
    "    rev_seq = old_seq[::-1]\n",
    "    rev_comp = \"\".join([compliment[i] for i in rev_seq])\n",
    "    return rev_comp\n",
    "k50_dimer_fimo_table[\"halfsite1\"] = k50_dimer_fimo_table[\"matched_sequence\"].apply(lambda x: x[:6]) \n",
    "k50_dimer_fimo_table[\"halfsite2\"] = k50_dimer_fimo_table[\"matched_sequence\"].apply(lambda x: reverse_rmatch(x[-6:]))\n",
    "q50_dimer_fimo_table[\"halfsite1\"] = q50_dimer_fimo_table[\"matched_sequence\"].apply(lambda x: x[1:7]) \n",
    "q50_dimer_fimo_table[\"halfsite2\"] = q50_dimer_fimo_table[\"matched_sequence\"].apply(lambda x: reverse_rmatch(x[-7:-1]))"
   ]
  },
  {
   "cell_type": "code",
   "execution_count": 38,
   "metadata": {},
   "outputs": [
    {
     "data": {
      "text/plain": [
       "e80a.notDB     4303\n",
       "e80a.gained    2848\n",
       "e80a.lost      1994\n",
       "k88n.gained     687\n",
       "Name: cluster, dtype: int64"
      ]
     },
     "execution_count": 38,
     "metadata": {},
     "output_type": "execute_result"
    }
   ],
   "source": [
    "crx_chip_clustered_matrix[\"cluster\"].value_counts()"
   ]
  },
  {
   "cell_type": "markdown",
   "metadata": {},
   "source": [
    "#### III. annotate CRX target genes by the type of HD motifs in their associated CRX-bound regulatory elements"
   ]
  },
  {
   "cell_type": "code",
   "execution_count": 81,
   "metadata": {},
   "outputs": [],
   "source": [
    "# all crx chip peak associated genes\n",
    "crx_dependent_genes = crx_chip_rna_matrix.sort_values(by=\"distTSS\", key=lambda x: abs(x), ascending=True).drop_duplicates(subset=[\"peak.id\"], keep=\"first\").sort_values(by=[\"seqnames\",\"start\"]).reset_index(drop=True).copy()"
   ]
  },
  {
   "cell_type": "code",
   "execution_count": 43,
   "metadata": {},
   "outputs": [],
   "source": [
    "subset_great_annot = crx_chip_clustered_matrix.copy()"
   ]
  },
  {
   "cell_type": "code",
   "execution_count": 22,
   "metadata": {},
   "outputs": [],
   "source": [
    "def annotate_peak_motif(peak_id, motif_match_peaks):\n",
    "    if peak_id in motif_match_peaks.values:\n",
    "        return 1\n",
    "    else:\n",
    "        return 0"
   ]
  },
  {
   "cell_type": "code",
   "execution_count": 44,
   "metadata": {},
   "outputs": [],
   "source": [
    "# instacnes of K50 motifs\n",
    "tmp = subset_great_annot[\"peak.id\"].apply(lambda x: annotate_peak_motif(x, k50_mono_fimo_table[\"sequence_name\"])).to_frame(\"k50_mono\")\n",
    "subset_great_annot = subset_great_annot.merge(tmp, left_index=True, right_index=True).fillna(0)\n",
    "tmp = subset_great_annot[\"peak.id\"].apply(lambda x: annotate_peak_motif(x, k50_dimer_fimo_table[\"sequence_name\"])).to_frame(\"k50_di\")\n",
    "subset_great_annot = subset_great_annot.merge(tmp, left_index=True, right_index=True).fillna(0)"
   ]
  },
  {
   "cell_type": "code",
   "execution_count": 45,
   "metadata": {},
   "outputs": [],
   "source": [
    "# instances of Q50 motifs\n",
    "tmp = subset_great_annot[\"peak.id\"].apply(lambda x: annotate_peak_motif(x, q50_mono_fimo_table[\"sequence_name\"])).to_frame(\"q50_mono\")\n",
    "subset_great_annot = subset_great_annot.merge(tmp, left_index=True, right_index=True).fillna(0)\n",
    "tmp = subset_great_annot[\"peak.id\"].apply(lambda x: annotate_peak_motif(x, q50_dimer_fimo_table[\"sequence_name\"])).to_frame(\"q50_di\")\n",
    "subset_great_annot = subset_great_annot.merge(tmp, left_index=True, right_index=True).fillna(0)"
   ]
  },
  {
   "cell_type": "code",
   "execution_count": 46,
   "metadata": {},
   "outputs": [],
   "source": [
    "# compile the chip and motif annotation dataframes\n",
    "subset_great_annot = subset_great_annot.merge(crx_chip_clustered_matrix[[\"peak.id\",\"cluster\",\"row_cluster\"]])\n",
    "subset_great_annot = subset_great_annot.merge(crx_dependent_genes[[\"seqnames\",\"start\",\"end\",\"gene\"]])"
   ]
  },
  {
   "cell_type": "code",
   "execution_count": 82,
   "metadata": {},
   "outputs": [],
   "source": [
    "# categorize into di+m, di, m, none groups\n",
    "gene_motif_annot = pd.DataFrame(index=crx_dependent_genes[\"gene\"].unique(), columns=[\"k50_group\",\"q50_group\"])\n",
    "for gene in gene_motif_annot.index:\n",
    "    for type in [\"k50\",\"q50\"]:\n",
    "        check_mono = subset_great_annot.loc[lambda df: df[\"gene\"]==gene,f\"{type}_mono\"].sum()>0\n",
    "        check_di = subset_great_annot.loc[lambda df: df[\"gene\"]==gene,f\"{type}_di\"].sum()>0\n",
    "\n",
    "        if check_mono == True and check_di == True:\n",
    "            gene_motif_annot.at[gene, f\"{type}_group\"] = 3\n",
    "        if check_mono == False and check_di == True:\n",
    "            gene_motif_annot.at[gene, f\"{type}_group\"] = 2\n",
    "        if check_mono == True and check_di == False:\n",
    "            gene_motif_annot.at[gene, f\"{type}_group\"] = 1\n",
    "        if check_mono == False and check_di == False:\n",
    "            gene_motif_annot.at[gene, f\"{type}_group\"] = 0"
   ]
  },
  {
   "cell_type": "code",
   "execution_count": 49,
   "metadata": {},
   "outputs": [],
   "source": [
    "subset_great_annot = subset_great_annot.merge(gene_motif_annot.reset_index(drop=False).rename(columns={\"index\":\"gene\"}), how=\"outer\")"
   ]
  },
  {
   "cell_type": "code",
   "execution_count": 75,
   "metadata": {},
   "outputs": [],
   "source": [
    "subset_great_annot.to_csv(os.path.join(rna_basedir, \"crx_all_target_genes_k50_motif_annotation.tsv\"), sep=\"\\t\", header=True, index=False)"
   ]
  },
  {
   "cell_type": "markdown",
   "metadata": {},
   "source": [
    "#### IV. attach RNA lfc both p10 and p21"
   ]
  },
  {
   "cell_type": "code",
   "execution_count": null,
   "metadata": {},
   "outputs": [],
   "source": [
    "unique_gene_motif = pd.merge(gene_motif_annot, crx_rna_full_matrix.set_index(\"GENENAME\"), left_index=True, right_index=True).reset_index(drop=False).rename(columns={\"index\":\"gene\"})\n",
    "unique_gene_motif = unique_gene_motif.drop_duplicates(\"gene\").reset_index(drop=True)"
   ]
  },
  {
   "cell_type": "code",
   "execution_count": null,
   "metadata": {},
   "outputs": [],
   "source": [
    "unique_gene_motif.to_csv(os.path.join(rna_basedir, \"crx_all_target_genes_cre_group_annotation.tsv\"), sep=\"\\t\", header=True, index=False)"
   ]
  }
 ],
 "metadata": {
  "kernelspec": {
   "display_name": "Python 3 (ipykernel)",
   "language": "python",
   "name": "python3"
  },
  "language_info": {
   "codemirror_mode": {
    "name": "ipython",
    "version": 3
   },
   "file_extension": ".py",
   "mimetype": "text/x-python",
   "name": "python",
   "nbconvert_exporter": "python",
   "pygments_lexer": "ipython3",
   "version": "3.10.12"
  }
 },
 "nbformat": 4,
 "nbformat_minor": 4
}
